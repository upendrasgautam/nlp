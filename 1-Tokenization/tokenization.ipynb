{
 "cells": [
  {
   "cell_type": "markdown",
   "id": "927238e6",
   "metadata": {},
   "source": [
    "We can use the following libaries:\n",
    "1. NLTK or spaCy NLP\n",
    "\n",
    "# What is the difference between NLTK and spaCy\n",
    "Both powerful Python libraries for Natural Language Processing (NLP).\n",
    "\n",
    "### 1. Purpose and Philosophy\n",
    "\n",
    "| Feature   | NLTK                                      | spaCy                                               |\n",
    "|-----------|-------------------------------------------|------------------------------------------------------|\n",
    "| Goal      | Research and education                    | Industrial-strength NLP                              |\n",
    "| Design    | Modular, flexible, and comprehensive      | Fast, efficient, and production-ready                |\n",
    "| Use Case  | Teaching, prototyping, linguistic research| Real-world applications, pipelines, and deployment   |\n",
    "\n",
    "### 2. Performance and Speed\n",
    "\n",
    "| Feature       | NLTK                                | spaCy                                 |\n",
    "|---------------|-------------------------------------|----------------------------------------|\n",
    "| Speed         | Slower, especially with large texts | Much faster and optimized in Cython    |\n",
    "| Memory Usage  | Higher                              | Lower and more efficient               |\n",
    "\n",
    "### 3. Features and Capabilities\n",
    "\n",
    "| Feature                        | NLTK                     | spaCy                                               |\n",
    "|-------------------------------|--------------------------|------------------------------------------------------|\n",
    "| Tokenization                  | Yes                      | Yes (more accurate and faster)                       |\n",
    "| POS Tagging                   | Yes                      | Yes (more accurate)                                  |\n",
    "| Named Entity Recognition (NER)| Yes                      | Yes (state-of-the-art)                               |\n",
    "| Dependency Parsing            | Basic                    | Advanced                                             |\n",
    "| Lemmatization                 | Yes                      | Yes                                                  |\n",
    "| Word Vectors                  | Limited                  | Built-in support for word vectors and transformers   |\n",
    "| Pre-trained Models            | Few, mostly for English  | Many, multilingual and transformer-based             |\n",
    "| Deep Learning Integration     | Limited                  | Strong support via spaCy Transformers and Thinc      |\n"
   ]
  },
  {
   "cell_type": "code",
   "execution_count": 2,
   "id": "db7730f9",
   "metadata": {},
   "outputs": [],
   "source": [
    "corpus = \"\"\"Hello Welcome, to krish Naik's NLP Tutorials.\n",
    "Please do watch the entire course! to become expert in NLP.\n",
    "\"\"\" "
   ]
  },
  {
   "cell_type": "code",
   "execution_count": 3,
   "id": "08bd6573",
   "metadata": {},
   "outputs": [
    {
     "name": "stdout",
     "output_type": "stream",
     "text": [
      "Hello Welcome, to krish Naik's NLP Tutorials.\n",
      "Please do watch the entire course! to become expert in NLP.\n",
      "\n"
     ]
    }
   ],
   "source": [
    "print(corpus)"
   ]
  },
  {
   "cell_type": "markdown",
   "id": "04865949",
   "metadata": {},
   "source": [
    "### Tockenization\n",
    "#### Convert - Sentence --> Paragraphs"
   ]
  },
  {
   "cell_type": "code",
   "execution_count": 12,
   "id": "7ec8ea83",
   "metadata": {},
   "outputs": [
    {
     "name": "stdout",
     "output_type": "stream",
     "text": [
      "[\"Hello Welcome, to krish Naik's NLP Tutorials.\", 'Please do watch the entire course!', 'to become expert in NLP.']\n"
     ]
    },
    {
     "name": "stderr",
     "output_type": "stream",
     "text": [
      "[nltk_data] Downloading package punkt_tab to\n",
      "[nltk_data]     C:\\Users\\ugautam\\AppData\\Roaming\\nltk_data...\n",
      "[nltk_data]   Package punkt_tab is already up-to-date!\n"
     ]
    }
   ],
   "source": [
    "import nltk \n",
    "nltk.download('punkt_tab')\n",
    "\n",
    "from nltk.tokenize import sent_tokenize\n",
    "\n",
    "\n",
    "documents = sent_tokenize(corpus)\n",
    "\n",
    "print(documents)\n",
    "\n"
   ]
  },
  {
   "cell_type": "code",
   "execution_count": 13,
   "id": "70c4afa0",
   "metadata": {},
   "outputs": [
    {
     "data": {
      "text/plain": [
       "list"
      ]
     },
     "execution_count": 13,
     "metadata": {},
     "output_type": "execute_result"
    }
   ],
   "source": [
    "type(documents)"
   ]
  },
  {
   "cell_type": "code",
   "execution_count": 14,
   "id": "78f5d53f",
   "metadata": {},
   "outputs": [
    {
     "name": "stdout",
     "output_type": "stream",
     "text": [
      "Hello Welcome, to krish Naik's NLP Tutorials.\n",
      "Please do watch the entire course!\n",
      "to become expert in NLP.\n"
     ]
    }
   ],
   "source": [
    "for sentence in documents:\n",
    "    print(sentence)"
   ]
  },
  {
   "cell_type": "markdown",
   "id": "2168f9e6",
   "metadata": {},
   "source": [
    "### Tockenization\n",
    "#### Convert  - Paragraphs  --> Words\n",
    "####            Sentence --> Words"
   ]
  },
  {
   "cell_type": "code",
   "execution_count": 19,
   "id": "bad71309",
   "metadata": {},
   "outputs": [],
   "source": [
    "from nltk.tokenize import word_tokenize\n",
    "\n",
    "words = word_tokenize(corpus)"
   ]
  },
  {
   "cell_type": "code",
   "execution_count": 20,
   "id": "9977d477",
   "metadata": {},
   "outputs": [
    {
     "data": {
      "text/plain": [
       "23"
      ]
     },
     "execution_count": 20,
     "metadata": {},
     "output_type": "execute_result"
    }
   ],
   "source": [
    "len(words)"
   ]
  },
  {
   "cell_type": "code",
   "execution_count": 16,
   "id": "624105e1",
   "metadata": {},
   "outputs": [
    {
     "name": "stdout",
     "output_type": "stream",
     "text": [
      "['Hello', 'Welcome', ',', 'to', 'krish', 'Naik', \"'s\", 'NLP', 'Tutorials', '.']\n",
      "['Please', 'do', 'watch', 'the', 'entire', 'course', '!']\n",
      "['to', 'become', 'expert', 'in', 'NLP', '.']\n"
     ]
    }
   ],
   "source": [
    "for sentence in documents:\n",
    "    print(word_tokenize(sentence))"
   ]
  },
  {
   "cell_type": "code",
   "execution_count": null,
   "id": "36d56138",
   "metadata": {},
   "outputs": [
    {
     "data": {
      "text/plain": [
       "['Hello',\n",
       " 'Welcome',\n",
       " ',',\n",
       " 'to',\n",
       " 'krish',\n",
       " 'Naik',\n",
       " \"'\",\n",
       " 's',\n",
       " 'NLP',\n",
       " 'Tutorials',\n",
       " '.',\n",
       " 'Please',\n",
       " 'do',\n",
       " 'watch',\n",
       " 'the',\n",
       " 'entire',\n",
       " 'course',\n",
       " '!',\n",
       " 'to',\n",
       " 'become',\n",
       " 'expert',\n",
       " 'in',\n",
       " 'NLP',\n",
       " '.']"
      ]
     },
     "execution_count": 17,
     "metadata": {},
     "output_type": "execute_result"
    }
   ],
   "source": [
    "# Advantage of wordpunct_tokenize - puctuations will also be considered as a seperate words\n",
    "from nltk.tokenize import wordpunct_tokenize\n",
    "\n",
    "wordpunct_tokenize (corpus)"
   ]
  },
  {
   "cell_type": "code",
   "execution_count": null,
   "id": "86cca0be",
   "metadata": {},
   "outputs": [
    {
     "data": {
      "text/plain": [
       "['Hello',\n",
       " 'Welcome',\n",
       " ',',\n",
       " 'to',\n",
       " 'krish',\n",
       " 'Naik',\n",
       " \"'s\",\n",
       " 'NLP',\n",
       " 'Tutorials.',\n",
       " 'Please',\n",
       " 'do',\n",
       " 'watch',\n",
       " 'the',\n",
       " 'entire',\n",
       " 'course',\n",
       " '!',\n",
       " 'to',\n",
       " 'become',\n",
       " 'expert',\n",
       " 'in',\n",
       " 'NLP',\n",
       " '.']"
      ]
     },
     "execution_count": 18,
     "metadata": {},
     "output_type": "execute_result"
    }
   ],
   "source": [
    "# in this FullStop (.) will not be treatened as a seperate word. It will be included with the Previous words.\n",
    "# But for the last word,FullStop (.) will be the seperate word.\n",
    "from nltk.tokenize import TreebankWordTokenizer\n",
    "\n",
    "tokenizer = TreebankWordTokenizer()\n",
    "tokenizer.tokenize(corpus)"
   ]
  },
  {
   "cell_type": "code",
   "execution_count": null,
   "id": "5be308c2",
   "metadata": {},
   "outputs": [],
   "source": []
  }
 ],
 "metadata": {
  "kernelspec": {
   "display_name": "venv",
   "language": "python",
   "name": "python3"
  },
  "language_info": {
   "codemirror_mode": {
    "name": "ipython",
    "version": 3
   },
   "file_extension": ".py",
   "mimetype": "text/x-python",
   "name": "python",
   "nbconvert_exporter": "python",
   "pygments_lexer": "ipython3",
   "version": "3.12.10"
  }
 },
 "nbformat": 4,
 "nbformat_minor": 5
}
