{
 "cells": [
  {
   "cell_type": "markdown",
   "id": "927238e6",
   "metadata": {},
   "source": [
    "We can use the following libaries:\n",
    "1. NLTK or spaCy NLP\n",
    "\n",
    "# What is the difference between NLTK and spaCy\n",
    "Both powerful Python libraries for Natural Language Processing (NLP).\n",
    "\n",
    "### 1. Purpose and Philosophy\n",
    "\n",
    "| Feature   | NLTK                                      | spaCy                                               |\n",
    "|-----------|-------------------------------------------|------------------------------------------------------|\n",
    "| Goal      | Research and education                    | Industrial-strength NLP                              |\n",
    "| Design    | Modular, flexible, and comprehensive      | Fast, efficient, and production-ready                |\n",
    "| Use Case  | Teaching, prototyping, linguistic research| Real-world applications, pipelines, and deployment   |\n",
    "\n",
    "### 2. Performance and Speed\n",
    "\n",
    "| Feature       | NLTK                                | spaCy                                 |\n",
    "|---------------|-------------------------------------|----------------------------------------|\n",
    "| Speed         | Slower, especially with large texts | Much faster and optimized in Cython    |\n",
    "| Memory Usage  | Higher                              | Lower and more efficient               |\n",
    "\n",
    "### 3. Features and Capabilities\n",
    "\n",
    "| Feature                        | NLTK                     | spaCy                                               |\n",
    "|-------------------------------|--------------------------|------------------------------------------------------|\n",
    "| Tokenization                  | Yes                      | Yes (more accurate and faster)                       |\n",
    "| POS Tagging                   | Yes                      | Yes (more accurate)                                  |\n",
    "| Named Entity Recognition (NER)| Yes                      | Yes (state-of-the-art)                               |\n",
    "| Dependency Parsing            | Basic                    | Advanced                                             |\n",
    "| Lemmatization                 | Yes                      | Yes                                                  |\n",
    "| Word Vectors                  | Limited                  | Built-in support for word vectors and transformers   |\n",
    "| Pre-trained Models            | Few, mostly for English  | Many, multilingual and transformer-based             |\n",
    "| Deep Learning Integration     | Limited                  | Strong support via spaCy Transformers and Thinc      |\n",
    "\n",
    "\n",
    "### Top Tockenization Libraries\n",
    "\n",
    "| Library\t| Language\t| Highlights\t| Best For |\n",
    "|-----------|-----------|---------------|----------|\n",
    "| spaCy (Top 1)\t | Python | Fast, accurate, supports multiple languages, built-in linguistic features\t| Production NLP, Named Entity Recognition |\n",
    "| Hugging Face Tokenizers (Top 2)\t||Python/Rust\t| Extremely fast, supports BPE, WordPiece, Unigram, etc.\t| Transformer models (BERT, GPT, etc.)|\n",
    "| NLTK (Top 3)\t| Python\t| Educational, simple, supports sentence and word tokenization\t| Learning, academic research|\n"
   ]
  },
  {
   "cell_type": "code",
   "execution_count": 10,
   "id": "db7730f9",
   "metadata": {},
   "outputs": [],
   "source": [
    "corpus = \"\"\"Hello Welcome, to krish Naik's NLP Tutorials.\n",
    "Please do watch the entire course! to become expert in NLP.\n",
    "\"\"\" "
   ]
  },
  {
   "cell_type": "code",
   "execution_count": 24,
   "id": "08bd6573",
   "metadata": {},
   "outputs": [
    {
     "name": "stdout",
     "output_type": "stream",
     "text": [
      "Hello Welcome, to krish Naik's NLP Tutorials.\n",
      "Please do watch the entire course! to become expert in NLP.\n",
      "\n"
     ]
    }
   ],
   "source": [
    "print(corpus)"
   ]
  },
  {
   "cell_type": "markdown",
   "id": "04865949",
   "metadata": {},
   "source": [
    "### Tockenization\n",
    "#### Convert - Sentence --> Paragraphs"
   ]
  },
  {
   "cell_type": "code",
   "execution_count": 25,
   "id": "7ec8ea83",
   "metadata": {},
   "outputs": [
    {
     "name": "stdout",
     "output_type": "stream",
     "text": [
      "[\"Hello Welcome, to krish Naik's NLP Tutorials.\", 'Please do watch the entire course!', 'to become expert in NLP.']\n"
     ]
    },
    {
     "name": "stderr",
     "output_type": "stream",
     "text": [
      "[nltk_data] Downloading package punkt_tab to\n",
      "[nltk_data]     C:\\Users\\ugautam\\AppData\\Roaming\\nltk_data...\n",
      "[nltk_data]   Package punkt_tab is already up-to-date!\n"
     ]
    }
   ],
   "source": [
    "import nltk \n",
    "nltk.download('punkt_tab')\n",
    "\n",
    "from nltk.tokenize import sent_tokenize\n",
    "\n",
    "\n",
    "documents = sent_tokenize(corpus)\n",
    "\n",
    "print(documents)\n",
    "\n"
   ]
  },
  {
   "cell_type": "code",
   "execution_count": 26,
   "id": "70c4afa0",
   "metadata": {},
   "outputs": [
    {
     "data": {
      "text/plain": [
       "list"
      ]
     },
     "execution_count": 26,
     "metadata": {},
     "output_type": "execute_result"
    }
   ],
   "source": [
    "type(documents)"
   ]
  },
  {
   "cell_type": "code",
   "execution_count": 27,
   "id": "78f5d53f",
   "metadata": {},
   "outputs": [
    {
     "name": "stdout",
     "output_type": "stream",
     "text": [
      "Hello Welcome, to krish Naik's NLP Tutorials.\n",
      "Please do watch the entire course!\n",
      "to become expert in NLP.\n"
     ]
    }
   ],
   "source": [
    "for sentence in documents:\n",
    "    print(sentence)"
   ]
  },
  {
   "cell_type": "markdown",
   "id": "2168f9e6",
   "metadata": {},
   "source": [
    "### Tockenization\n",
    "#### Convert  - Paragraphs  --> Words\n",
    "####            Sentence --> Words"
   ]
  },
  {
   "cell_type": "code",
   "execution_count": 28,
   "id": "bad71309",
   "metadata": {},
   "outputs": [],
   "source": [
    "from nltk.tokenize import word_tokenize\n",
    "\n",
    "words = word_tokenize(corpus)"
   ]
  },
  {
   "cell_type": "code",
   "execution_count": 29,
   "id": "9977d477",
   "metadata": {},
   "outputs": [
    {
     "data": {
      "text/plain": [
       "23"
      ]
     },
     "execution_count": 29,
     "metadata": {},
     "output_type": "execute_result"
    }
   ],
   "source": [
    "len(words)"
   ]
  },
  {
   "cell_type": "code",
   "execution_count": 30,
   "id": "624105e1",
   "metadata": {},
   "outputs": [
    {
     "name": "stdout",
     "output_type": "stream",
     "text": [
      "['Hello', 'Welcome', ',', 'to', 'krish', 'Naik', \"'s\", 'NLP', 'Tutorials', '.']\n",
      "['Please', 'do', 'watch', 'the', 'entire', 'course', '!']\n",
      "['to', 'become', 'expert', 'in', 'NLP', '.']\n"
     ]
    }
   ],
   "source": [
    "for sentence in documents:\n",
    "    print(word_tokenize(sentence))"
   ]
  },
  {
   "cell_type": "code",
   "execution_count": 31,
   "id": "36d56138",
   "metadata": {},
   "outputs": [
    {
     "data": {
      "text/plain": [
       "['Hello',\n",
       " 'Welcome',\n",
       " ',',\n",
       " 'to',\n",
       " 'krish',\n",
       " 'Naik',\n",
       " \"'\",\n",
       " 's',\n",
       " 'NLP',\n",
       " 'Tutorials',\n",
       " '.',\n",
       " 'Please',\n",
       " 'do',\n",
       " 'watch',\n",
       " 'the',\n",
       " 'entire',\n",
       " 'course',\n",
       " '!',\n",
       " 'to',\n",
       " 'become',\n",
       " 'expert',\n",
       " 'in',\n",
       " 'NLP',\n",
       " '.']"
      ]
     },
     "execution_count": 31,
     "metadata": {},
     "output_type": "execute_result"
    }
   ],
   "source": [
    "# Advantage of wordpunct_tokenize - puctuations will also be considered as a seperate words\n",
    "from nltk.tokenize import wordpunct_tokenize\n",
    "\n",
    "wordpunct_tokenize (corpus)"
   ]
  },
  {
   "cell_type": "code",
   "execution_count": 32,
   "id": "899f868d",
   "metadata": {},
   "outputs": [
    {
     "name": "stdout",
     "output_type": "stream",
     "text": [
      "Token 0: Hello\n",
      "Token 1: Welcome\n",
      "Token 2: ,\n",
      "Token 3: to\n",
      "Token 4: krish\n",
      "Token 5: Naik\n",
      "Token 6: '\n",
      "Token 7: s\n",
      "Token 8: NLP\n",
      "Token 9: Tutorials\n",
      "Token 10: .\n",
      "Token 11: Please\n",
      "Token 12: do\n",
      "Token 13: watch\n",
      "Token 14: the\n",
      "Token 15: entire\n",
      "Token 16: course\n",
      "Token 17: !\n",
      "Token 18: to\n",
      "Token 19: become\n",
      "Token 20: expert\n",
      "Token 21: in\n",
      "Token 22: NLP\n",
      "Token 23: .\n"
     ]
    }
   ],
   "source": [
    "## See the tockens\n",
    "\n",
    "# Advantage of wordpunct_tokenize - puctuations will also be considered as a seperate words\n",
    "from nltk.tokenize import wordpunct_tokenize\n",
    "\n",
    "tokens  = wordpunct_tokenize (corpus)\n",
    "\n",
    "\n",
    "# Display tokens with their index numbers\n",
    "for idx, token in enumerate(tokens):\n",
    "    print(f\"Token {idx}: {token}\")\n"
   ]
  },
  {
   "cell_type": "code",
   "execution_count": 33,
   "id": "86cca0be",
   "metadata": {},
   "outputs": [
    {
     "data": {
      "text/plain": [
       "['Hello',\n",
       " 'Welcome',\n",
       " ',',\n",
       " 'to',\n",
       " 'krish',\n",
       " 'Naik',\n",
       " \"'s\",\n",
       " 'NLP',\n",
       " 'Tutorials.',\n",
       " 'Please',\n",
       " 'do',\n",
       " 'watch',\n",
       " 'the',\n",
       " 'entire',\n",
       " 'course',\n",
       " '!',\n",
       " 'to',\n",
       " 'become',\n",
       " 'expert',\n",
       " 'in',\n",
       " 'NLP',\n",
       " '.']"
      ]
     },
     "execution_count": 33,
     "metadata": {},
     "output_type": "execute_result"
    }
   ],
   "source": [
    "# in this FullStop (.) will not be treatened as a seperate word. It will be included with the Previous words.\n",
    "# But for the last word,FullStop (.) will be the seperate word.\n",
    "from nltk.tokenize import TreebankWordTokenizer\n",
    "\n",
    "tokenizer = TreebankWordTokenizer()\n",
    "tokenizer.tokenize(corpus)"
   ]
  },
  {
   "cell_type": "markdown",
   "id": "5739f701",
   "metadata": {},
   "source": [
    "### Spacy Examples"
   ]
  },
  {
   "cell_type": "code",
   "execution_count": 7,
   "id": "5be308c2",
   "metadata": {},
   "outputs": [
    {
     "name": "stdout",
     "output_type": "stream",
     "text": [
      "Token 0: Tokenization\n",
      "Token 1: using\n",
      "Token 2: spaCy\n",
      "Token 3: with\n",
      "Token 4: a\n",
      "Token 5: blank\n",
      "Token 6: English\n",
      "Token 7: 's\n",
      "Token 8: model\n",
      "Token 9: .\n"
     ]
    }
   ],
   "source": [
    "\n",
    "import spacy\n",
    "\n",
    "# Load a blank English model (no pretrained components)\n",
    "nlp = spacy.blank(\"en\")\n",
    "\n",
    "# Your input text\n",
    "text = \"Tokenization using spaCy with a blank English's model.\"\n",
    "\n",
    "# Process the text\n",
    "doc = nlp(text)\n",
    "\n",
    "# Print tokens\n",
    "for i, token in enumerate(doc):\n",
    "    print(f\"Token {i}: {token.text}\")\n"
   ]
  },
  {
   "cell_type": "code",
   "execution_count": null,
   "id": "61356461",
   "metadata": {},
   "outputs": [
    {
     "name": "stdout",
     "output_type": "stream",
     "text": [
      "NLTK Tokens: ['Dr.', 'Smith', 'went', 'to', 'Washington', 'D.C.', 'on', 'Jan.', '5th', ',', '2023', '.']\n",
      "spaCy Tokens: ['Dr.', 'Smith', 'went', 'to', 'Washington', 'D.C.', 'on', 'Jan.', '5th', ',', '2023', '.']\n",
      "NLTK Time: 0.000999 seconds\n",
      "spaCy Time: 0.001000 seconds\n"
     ]
    },
    {
     "name": "stderr",
     "output_type": "stream",
     "text": [
      "[nltk_data] Downloading package punkt to\n",
      "[nltk_data]     C:\\Users\\ugautam\\AppData\\Roaming\\nltk_data...\n",
      "[nltk_data]   Package punkt is already up-to-date!\n"
     ]
    }
   ],
   "source": [
    "## Check the NLTK and SPacy Difference\n",
    "\n",
    "import nltk\n",
    "import spacy\n",
    "import time\n",
    "from nltk.tokenize import word_tokenize\n",
    "\n",
    "# Download NLTK tokenizer data\n",
    "nltk.download('punkt')\n",
    "\n",
    "# Sample text\n",
    "text = \"Dr. Smith went to Washington D.C. on Jan. 5th, 2023.\"\n",
    "\n",
    "# NLTK Tokenization\n",
    "start_nltk = time.time()\n",
    "nltk_tokens = word_tokenize(text)\n",
    "end_nltk = time.time()\n",
    "\n",
    "# spaCy Tokenization\n",
    "nlp = spacy.blank(\"en\")  # Use blank model for tokenization only\n",
    "start_spacy = time.time()\n",
    "spacy_tokens = [token.text for token in nlp(text)]\n",
    "end_spacy = time.time()\n",
    "\n",
    "# Print results\n",
    "print(\"NLTK Tokens:\", nltk_tokens)\n",
    "print(\"spaCy Tokens:\", spacy_tokens)\n",
    "print(f\"NLTK Time: {end_nltk - start_nltk:.6f} seconds\")\n",
    "print(f\"spaCy Time: {end_spacy - start_spacy:.6f} seconds\")\n"
   ]
  }
 ],
 "metadata": {
  "kernelspec": {
   "display_name": "venv",
   "language": "python",
   "name": "python3"
  },
  "language_info": {
   "codemirror_mode": {
    "name": "ipython",
    "version": 3
   },
   "file_extension": ".py",
   "mimetype": "text/x-python",
   "name": "python",
   "nbconvert_exporter": "python",
   "pygments_lexer": "ipython3",
   "version": "3.12.10"
  }
 },
 "nbformat": 4,
 "nbformat_minor": 5
}
